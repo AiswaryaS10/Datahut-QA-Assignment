{
 "cells": [
  {
   "cell_type": "markdown",
   "id": "8043edb3-a377-4bf3-8914-ca549f4183b9",
   "metadata": {},
   "source": [
    "### Problem Statement:\n",
    "#### The dataset contains inconsistencies, missing values, formatting errors, and noise in multiple columns. The goal is to clean the data to ensure accuracy, consistency, and usability."
   ]
  },
  {
   "cell_type": "markdown",
   "id": "1558d735-3cdc-4560-8f33-d45286d779ec",
   "metadata": {},
   "source": [
    "### Objective:\n",
    "#### To apply data cleaning techniques to improve the quality of the dataset."
   ]
  },
  {
   "cell_type": "code",
   "execution_count": 1,
   "id": "f77aca7e-fde7-423e-be55-f824cd41a415",
   "metadata": {},
   "outputs": [],
   "source": [
    "import pandas as pd\n",
    "\n",
    "import warnings\n",
    "warnings.filterwarnings(\"ignore\")"
   ]
  },
  {
   "cell_type": "code",
   "execution_count": 2,
   "id": "e935b66a-f115-451c-9b13-bd73e6aca49d",
   "metadata": {},
   "outputs": [],
   "source": [
    "#loading dataset\n",
    "df = pd.read_csv(\"messy_data.csv\")"
   ]
  },
  {
   "cell_type": "code",
   "execution_count": 3,
   "id": "386eaf89-e354-4e10-9229-dbb47de2e634",
   "metadata": {},
   "outputs": [
    {
     "data": {
      "text/html": [
       "<div>\n",
       "<style scoped>\n",
       "    .dataframe tbody tr th:only-of-type {\n",
       "        vertical-align: middle;\n",
       "    }\n",
       "\n",
       "    .dataframe tbody tr th {\n",
       "        vertical-align: top;\n",
       "    }\n",
       "\n",
       "    .dataframe thead th {\n",
       "        text-align: right;\n",
       "    }\n",
       "</style>\n",
       "<table border=\"1\" class=\"dataframe\">\n",
       "  <thead>\n",
       "    <tr style=\"text-align: right;\">\n",
       "      <th></th>\n",
       "      <th>Unnamed: 0</th>\n",
       "      <th>ID</th>\n",
       "      <th>Name</th>\n",
       "      <th>Age</th>\n",
       "      <th>Email</th>\n",
       "      <th>Join Date</th>\n",
       "      <th>Salary</th>\n",
       "      <th>Department</th>\n",
       "    </tr>\n",
       "  </thead>\n",
       "  <tbody>\n",
       "    <tr>\n",
       "      <th>0</th>\n",
       "      <td>0</td>\n",
       "      <td>1e407ff9-6255-489d-a0de-34135d4f74bd</td>\n",
       "      <td>Hunter Thomas</td>\n",
       "      <td>25.0</td>\n",
       "      <td>xlopez@hotmail.com</td>\n",
       "      <td>NaN</td>\n",
       "      <td>88552.0</td>\n",
       "      <td>Sales</td>\n",
       "    </tr>\n",
       "    <tr>\n",
       "      <th>1</th>\n",
       "      <td>1</td>\n",
       "      <td>379f55b8-87d5-4739-a146-7400b78c24d1</td>\n",
       "      <td>Jeremy Irwin</td>\n",
       "      <td>90.0</td>\n",
       "      <td>Jillian Jenkins</td>\n",
       "      <td>2022-07-07</td>\n",
       "      <td>139227.0</td>\n",
       "      <td>NaN</td>\n",
       "    </tr>\n",
       "    <tr>\n",
       "      <th>2</th>\n",
       "      <td>2</td>\n",
       "      <td>18261368-dfa1-47f0-afc6-bddf45926b07</td>\n",
       "      <td>Jennifer Hammondquickly</td>\n",
       "      <td>66.0</td>\n",
       "      <td>jscottgreen.biz</td>\n",
       "      <td>2023-11-21</td>\n",
       "      <td>65550.0</td>\n",
       "      <td>Engineering</td>\n",
       "    </tr>\n",
       "    <tr>\n",
       "      <th>3</th>\n",
       "      <td>3</td>\n",
       "      <td>ae7cf7cf-17cf-4c8b-9c44-4f61a9a238e5</td>\n",
       "      <td>Sydney Taylorso</td>\n",
       "      <td>39.0</td>\n",
       "      <td>luke56gonzalez.com</td>\n",
       "      <td>2021-11-05</td>\n",
       "      <td>139932.0</td>\n",
       "      <td>SupportJ</td>\n",
       "    </tr>\n",
       "    <tr>\n",
       "      <th>4</th>\n",
       "      <td>4</td>\n",
       "      <td>14ed3e6a-e0f5-4bbe-8d93-8665267f5c90</td>\n",
       "      <td>Julia Lee</td>\n",
       "      <td>71.0</td>\n",
       "      <td>figueroakayla@yahoo.com</td>\n",
       "      <td>NaN</td>\n",
       "      <td>143456.0</td>\n",
       "      <td>Marketing</td>\n",
       "    </tr>\n",
       "  </tbody>\n",
       "</table>\n",
       "</div>"
      ],
      "text/plain": [
       "   Unnamed: 0                                    ID                     Name  \\\n",
       "0           0  1e407ff9-6255-489d-a0de-34135d4f74bd            Hunter Thomas   \n",
       "1           1  379f55b8-87d5-4739-a146-7400b78c24d1             Jeremy Irwin   \n",
       "2           2  18261368-dfa1-47f0-afc6-bddf45926b07  Jennifer Hammondquickly   \n",
       "3           3  ae7cf7cf-17cf-4c8b-9c44-4f61a9a238e5          Sydney Taylorso   \n",
       "4           4  14ed3e6a-e0f5-4bbe-8d93-8665267f5c90                Julia Lee   \n",
       "\n",
       "    Age                    Email   Join Date    Salary   Department  \n",
       "0  25.0       xlopez@hotmail.com         NaN   88552.0        Sales  \n",
       "1  90.0          Jillian Jenkins  2022-07-07  139227.0          NaN  \n",
       "2  66.0          jscottgreen.biz  2023-11-21   65550.0  Engineering  \n",
       "3  39.0       luke56gonzalez.com  2021-11-05  139932.0     SupportJ  \n",
       "4  71.0  figueroakayla@yahoo.com         NaN  143456.0    Marketing  "
      ]
     },
     "execution_count": 3,
     "metadata": {},
     "output_type": "execute_result"
    }
   ],
   "source": [
    "df.head()"
   ]
  },
  {
   "cell_type": "code",
   "execution_count": 4,
   "id": "8f57630b-75d6-4346-8db9-84ff65d50df9",
   "metadata": {},
   "outputs": [
    {
     "data": {
      "text/plain": [
       "(11000, 8)"
      ]
     },
     "execution_count": 4,
     "metadata": {},
     "output_type": "execute_result"
    }
   ],
   "source": [
    "#shape of the dataset\n",
    "df.shape"
   ]
  },
  {
   "cell_type": "code",
   "execution_count": 5,
   "id": "dba3f30d-b0ab-4d5a-a5ff-80d2f590cc05",
   "metadata": {},
   "outputs": [
    {
     "data": {
      "text/html": [
       "<div>\n",
       "<style scoped>\n",
       "    .dataframe tbody tr th:only-of-type {\n",
       "        vertical-align: middle;\n",
       "    }\n",
       "\n",
       "    .dataframe tbody tr th {\n",
       "        vertical-align: top;\n",
       "    }\n",
       "\n",
       "    .dataframe thead th {\n",
       "        text-align: right;\n",
       "    }\n",
       "</style>\n",
       "<table border=\"1\" class=\"dataframe\">\n",
       "  <thead>\n",
       "    <tr style=\"text-align: right;\">\n",
       "      <th></th>\n",
       "      <th>Unnamed: 0</th>\n",
       "      <th>Age</th>\n",
       "      <th>Salary</th>\n",
       "    </tr>\n",
       "  </thead>\n",
       "  <tbody>\n",
       "    <tr>\n",
       "      <th>count</th>\n",
       "      <td>11000.000000</td>\n",
       "      <td>9253.000000</td>\n",
       "      <td>8761.000000</td>\n",
       "    </tr>\n",
       "    <tr>\n",
       "      <th>mean</th>\n",
       "      <td>5012.947818</td>\n",
       "      <td>54.162650</td>\n",
       "      <td>89886.585012</td>\n",
       "    </tr>\n",
       "    <tr>\n",
       "      <th>std</th>\n",
       "      <td>2884.739158</td>\n",
       "      <td>21.072919</td>\n",
       "      <td>34896.320117</td>\n",
       "    </tr>\n",
       "    <tr>\n",
       "      <th>min</th>\n",
       "      <td>0.000000</td>\n",
       "      <td>18.000000</td>\n",
       "      <td>24655.136613</td>\n",
       "    </tr>\n",
       "    <tr>\n",
       "      <th>25%</th>\n",
       "      <td>2509.750000</td>\n",
       "      <td>36.000000</td>\n",
       "      <td>59723.844874</td>\n",
       "    </tr>\n",
       "    <tr>\n",
       "      <th>50%</th>\n",
       "      <td>5024.500000</td>\n",
       "      <td>54.000000</td>\n",
       "      <td>89241.000000</td>\n",
       "    </tr>\n",
       "    <tr>\n",
       "      <th>75%</th>\n",
       "      <td>7510.250000</td>\n",
       "      <td>72.000000</td>\n",
       "      <td>119491.000000</td>\n",
       "    </tr>\n",
       "    <tr>\n",
       "      <th>max</th>\n",
       "      <td>9999.000000</td>\n",
       "      <td>90.000000</td>\n",
       "      <td>176156.206747</td>\n",
       "    </tr>\n",
       "  </tbody>\n",
       "</table>\n",
       "</div>"
      ],
      "text/plain": [
       "         Unnamed: 0          Age         Salary\n",
       "count  11000.000000  9253.000000    8761.000000\n",
       "mean    5012.947818    54.162650   89886.585012\n",
       "std     2884.739158    21.072919   34896.320117\n",
       "min        0.000000    18.000000   24655.136613\n",
       "25%     2509.750000    36.000000   59723.844874\n",
       "50%     5024.500000    54.000000   89241.000000\n",
       "75%     7510.250000    72.000000  119491.000000\n",
       "max     9999.000000    90.000000  176156.206747"
      ]
     },
     "execution_count": 5,
     "metadata": {},
     "output_type": "execute_result"
    }
   ],
   "source": [
    "#statistical summary\n",
    "df.describe()"
   ]
  },
  {
   "cell_type": "code",
   "execution_count": 6,
   "id": "7ce358f8-7cc8-4605-b99d-e699d1773f62",
   "metadata": {},
   "outputs": [
    {
     "data": {
      "text/plain": [
       "Unnamed: 0       0\n",
       "ID               0\n",
       "Name          2333\n",
       "Age           1747\n",
       "Email         1269\n",
       "Join Date     2192\n",
       "Salary        2239\n",
       "Department    2255\n",
       "dtype: int64"
      ]
     },
     "execution_count": 6,
     "metadata": {},
     "output_type": "execute_result"
    }
   ],
   "source": [
    "# checking the null values\n",
    "df.isnull().sum()"
   ]
  },
  {
   "cell_type": "markdown",
   "id": "53d7b189-60ff-4591-ab24-6951683bb294",
   "metadata": {},
   "source": [
    "#### We can observe that null values exist in 6 columns. Lets handle missing values using appropriate imputation techniques."
   ]
  },
  {
   "cell_type": "code",
   "execution_count": 7,
   "id": "f4c728ce-fd76-42b1-b1d3-5318eb25b9e4",
   "metadata": {},
   "outputs": [],
   "source": [
    "df.drop(\"Unnamed: 0\", axis=1, inplace=True)"
   ]
  },
  {
   "cell_type": "code",
   "execution_count": 8,
   "id": "01a8197b-6309-4fdd-b67e-e957ae3cbf50",
   "metadata": {},
   "outputs": [
    {
     "data": {
      "text/html": [
       "<div>\n",
       "<style scoped>\n",
       "    .dataframe tbody tr th:only-of-type {\n",
       "        vertical-align: middle;\n",
       "    }\n",
       "\n",
       "    .dataframe tbody tr th {\n",
       "        vertical-align: top;\n",
       "    }\n",
       "\n",
       "    .dataframe thead th {\n",
       "        text-align: right;\n",
       "    }\n",
       "</style>\n",
       "<table border=\"1\" class=\"dataframe\">\n",
       "  <thead>\n",
       "    <tr style=\"text-align: right;\">\n",
       "      <th></th>\n",
       "      <th>ID</th>\n",
       "      <th>Name</th>\n",
       "      <th>Age</th>\n",
       "      <th>Email</th>\n",
       "      <th>Join Date</th>\n",
       "      <th>Salary</th>\n",
       "      <th>Department</th>\n",
       "    </tr>\n",
       "  </thead>\n",
       "  <tbody>\n",
       "    <tr>\n",
       "      <th>0</th>\n",
       "      <td>1e407ff9-6255-489d-a0de-34135d4f74bd</td>\n",
       "      <td>Hunter Thomas</td>\n",
       "      <td>25.0</td>\n",
       "      <td>xlopez@hotmail.com</td>\n",
       "      <td>NaN</td>\n",
       "      <td>88552.0</td>\n",
       "      <td>Sales</td>\n",
       "    </tr>\n",
       "    <tr>\n",
       "      <th>1</th>\n",
       "      <td>379f55b8-87d5-4739-a146-7400b78c24d1</td>\n",
       "      <td>Jeremy Irwin</td>\n",
       "      <td>90.0</td>\n",
       "      <td>Jillian Jenkins</td>\n",
       "      <td>2022-07-07</td>\n",
       "      <td>139227.0</td>\n",
       "      <td>NaN</td>\n",
       "    </tr>\n",
       "    <tr>\n",
       "      <th>2</th>\n",
       "      <td>18261368-dfa1-47f0-afc6-bddf45926b07</td>\n",
       "      <td>Jennifer Hammondquickly</td>\n",
       "      <td>66.0</td>\n",
       "      <td>jscottgreen.biz</td>\n",
       "      <td>2023-11-21</td>\n",
       "      <td>65550.0</td>\n",
       "      <td>Engineering</td>\n",
       "    </tr>\n",
       "    <tr>\n",
       "      <th>3</th>\n",
       "      <td>ae7cf7cf-17cf-4c8b-9c44-4f61a9a238e5</td>\n",
       "      <td>Sydney Taylorso</td>\n",
       "      <td>39.0</td>\n",
       "      <td>luke56gonzalez.com</td>\n",
       "      <td>2021-11-05</td>\n",
       "      <td>139932.0</td>\n",
       "      <td>SupportJ</td>\n",
       "    </tr>\n",
       "    <tr>\n",
       "      <th>4</th>\n",
       "      <td>14ed3e6a-e0f5-4bbe-8d93-8665267f5c90</td>\n",
       "      <td>Julia Lee</td>\n",
       "      <td>71.0</td>\n",
       "      <td>figueroakayla@yahoo.com</td>\n",
       "      <td>NaN</td>\n",
       "      <td>143456.0</td>\n",
       "      <td>Marketing</td>\n",
       "    </tr>\n",
       "  </tbody>\n",
       "</table>\n",
       "</div>"
      ],
      "text/plain": [
       "                                     ID                     Name   Age  \\\n",
       "0  1e407ff9-6255-489d-a0de-34135d4f74bd            Hunter Thomas  25.0   \n",
       "1  379f55b8-87d5-4739-a146-7400b78c24d1             Jeremy Irwin  90.0   \n",
       "2  18261368-dfa1-47f0-afc6-bddf45926b07  Jennifer Hammondquickly  66.0   \n",
       "3  ae7cf7cf-17cf-4c8b-9c44-4f61a9a238e5          Sydney Taylorso  39.0   \n",
       "4  14ed3e6a-e0f5-4bbe-8d93-8665267f5c90                Julia Lee  71.0   \n",
       "\n",
       "                     Email   Join Date    Salary   Department  \n",
       "0       xlopez@hotmail.com         NaN   88552.0        Sales  \n",
       "1          Jillian Jenkins  2022-07-07  139227.0          NaN  \n",
       "2          jscottgreen.biz  2023-11-21   65550.0  Engineering  \n",
       "3       luke56gonzalez.com  2021-11-05  139932.0     SupportJ  \n",
       "4  figueroakayla@yahoo.com         NaN  143456.0    Marketing  "
      ]
     },
     "execution_count": 8,
     "metadata": {},
     "output_type": "execute_result"
    }
   ],
   "source": [
    "df.head()"
   ]
  },
  {
   "cell_type": "code",
   "execution_count": 9,
   "id": "72a5660d-7b53-4f6b-b9ea-30cc5dd5c450",
   "metadata": {},
   "outputs": [
    {
     "name": "stdout",
     "output_type": "stream",
     "text": [
      "object\n"
     ]
    }
   ],
   "source": [
    "print(df['Join Date'].dtype)"
   ]
  },
  {
   "cell_type": "code",
   "execution_count": 10,
   "id": "5677b525-1df6-4d8b-befb-c04c7083c0d1",
   "metadata": {},
   "outputs": [],
   "source": [
    "df['Join Date'] = pd.to_datetime(df['Join Date'], errors='coerce')"
   ]
  },
  {
   "cell_type": "code",
   "execution_count": 11,
   "id": "b748e538-7f55-4129-bd05-c94f81f3b73a",
   "metadata": {},
   "outputs": [
    {
     "name": "stdout",
     "output_type": "stream",
     "text": [
      "Fill null values succesfully\n"
     ]
    }
   ],
   "source": [
    "# filling missing name with \"No name provided\"\n",
    "df[\"Name\"].fillna(\"No name provided\", inplace = True)\n",
    "\n",
    "# impute missing values(Age) with median\n",
    "df[\"Age\"].fillna(df[\"Age\"].median(), inplace = True)\n",
    "\n",
    "# impute missing values(Salary) with median\n",
    "df[\"Salary\"].fillna(df[\"Salary\"].median(), inplace = True)\n",
    "\n",
    "# filling missing emails as \"Unknown\"\n",
    "df[\"Email\"].fillna(\"Unknown\", inplace = True)\n",
    "\n",
    "# fill missing dates with \"Unknown\"\n",
    "df[\"Join Date\"] = df[\"Join Date\"].fillna(pd.Timestamp('2025-01-01'))\n",
    "\n",
    "# filling missing department with \"unknown\"\n",
    "df[\"Department\"].fillna(\"Unknown\", inplace = True)\n",
    "\n",
    "print(\"Fill null values succesfully\")"
   ]
  },
  {
   "cell_type": "code",
   "execution_count": 12,
   "id": "a8208539-17e6-4633-a4a4-8f2dc055757e",
   "metadata": {},
   "outputs": [
    {
     "data": {
      "text/plain": [
       "299"
      ]
     },
     "execution_count": 12,
     "metadata": {},
     "output_type": "execute_result"
    }
   ],
   "source": [
    "# duplicated value sum\n",
    "df.duplicated().sum()"
   ]
  },
  {
   "cell_type": "code",
   "execution_count": 13,
   "id": "03a50be7-b8ac-4c33-b170-7b23908ca943",
   "metadata": {},
   "outputs": [
    {
     "name": "stdout",
     "output_type": "stream",
     "text": [
      "No:of duplicate rows =  299\n"
     ]
    }
   ],
   "source": [
    "# to find the no:of duplicated rows\n",
    "duplicate_rows = df[df.duplicated()]\n",
    "print(\"No:of duplicate rows = \", len(duplicate_rows))"
   ]
  },
  {
   "cell_type": "code",
   "execution_count": 14,
   "id": "ccce9945-b2a8-481c-b71b-983a015c6b13",
   "metadata": {},
   "outputs": [],
   "source": [
    "# to remove duplicated rows\n",
    "df.drop_duplicates(inplace=True)"
   ]
  },
  {
   "cell_type": "code",
   "execution_count": 15,
   "id": "0d15e87c-560d-43a1-94e8-b11bbf2420da",
   "metadata": {},
   "outputs": [
    {
     "name": "stdout",
     "output_type": "stream",
     "text": [
      "Duplicated row after removal =  0\n"
     ]
    }
   ],
   "source": [
    "# verify that duplicates have been removed\n",
    "print(\"Duplicated row after removal = \", len(df[df.duplicated()]))"
   ]
  },
  {
   "cell_type": "code",
   "execution_count": 16,
   "id": "24c66de6-a689-43ee-bb1e-5cad9ae489c2",
   "metadata": {},
   "outputs": [
    {
     "data": {
      "text/plain": [
       "ID            0\n",
       "Name          0\n",
       "Age           0\n",
       "Email         0\n",
       "Join Date     0\n",
       "Salary        0\n",
       "Department    0\n",
       "dtype: int64"
      ]
     },
     "execution_count": 16,
     "metadata": {},
     "output_type": "execute_result"
    }
   ],
   "source": [
    "# display remaining missing values after handling\n",
    "df.isnull().sum()"
   ]
  },
  {
   "cell_type": "markdown",
   "id": "e61cd2c9-ac6e-4833-9fa8-79cc25d7f6d2",
   "metadata": {},
   "source": [
    "#### After handling missing values, dataset is now complete and ready for further analysis."
   ]
  },
  {
   "cell_type": "code",
   "execution_count": 17,
   "id": "5be48c62-d7e9-4135-8a8e-a7274015930c",
   "metadata": {},
   "outputs": [
    {
     "name": "stdout",
     "output_type": "stream",
     "text": [
      "Validate email format successfully\n"
     ]
    }
   ],
   "source": [
    "# validate email format\n",
    "import re\n",
    "df = df[df[\"Email\"].str.match(r'^[a-zA-Z0-9._%+-]+@[a-zA-Z0-9.-]+\\.[a-zA-Z]{2,}$')]\n",
    "\n",
    "df = df[~df['Email'].str.contains('gmail|yahoo|hotmail')]\n",
    "\n",
    "print(\"Validate email format successfully\")"
   ]
  },
  {
   "cell_type": "code",
   "execution_count": 18,
   "id": "017617f5-a5ed-44b6-9070-73284624c38b",
   "metadata": {},
   "outputs": [
    {
     "name": "stdout",
     "output_type": "stream",
     "text": [
      "Remove noise successfully\n"
     ]
    }
   ],
   "source": [
    "# clean name field\n",
    "df[\"Name\"] = df[\"Name\"].str.replace(r'[^a-zA-Z\\s]','',regex = True).str.strip()\n",
    "print(\"Remove noise successfully\")"
   ]
  },
  {
   "cell_type": "code",
   "execution_count": 19,
   "id": "b80c6419-00fe-4152-ad44-b4aad7ce2f33",
   "metadata": {},
   "outputs": [
    {
     "name": "stdout",
     "output_type": "stream",
     "text": [
      "Standardize date format successfully\n"
     ]
    }
   ],
   "source": [
    "# standardize date format\n",
    "df['Join Date'] = pd.to_datetime(df['Join Date'], errors='coerce').dt.strftime('%Y-%m-%d')\n",
    "print(\"Standardize date format successfully\")"
   ]
  },
  {
   "cell_type": "code",
   "execution_count": 20,
   "id": "cd18d87b-5ce7-4f65-b1fc-dd0b09d6b877",
   "metadata": {},
   "outputs": [
    {
     "name": "stdout",
     "output_type": "stream",
     "text": [
      "Salary noise handled successfully.\n"
     ]
    }
   ],
   "source": [
    "# Define a reasonable salary range\n",
    "MIN_SALARY = 10000   \n",
    "MAX_SALARY = 500000  \n",
    "\n",
    "# Remove salaries outside the defined range\n",
    "df = df[(df['Salary'] >= MIN_SALARY) & (df['Salary'] <= MAX_SALARY)]\n",
    "\n",
    "# Handling Outliers using IQR (Interquartile Range)\n",
    "Q1 = df['Salary'].quantile(0.25)  # First quartile \n",
    "Q3 = df['Salary'].quantile(0.75)  # Third quartile \n",
    "IQR = Q3 - Q1  # Interquartile range\n",
    "\n",
    "# Define lower and upper bounds\n",
    "lower_bound = Q1 - 1.5 * IQR\n",
    "upper_bound = Q3 + 1.5 * IQR\n",
    "\n",
    "# Remove outliers\n",
    "df = df[(df['Salary'] >= lower_bound) & (df['Salary'] <= upper_bound)]\n",
    "\n",
    "print(\"Salary noise handled successfully.\")"
   ]
  },
  {
   "cell_type": "code",
   "execution_count": 21,
   "id": "3d83fc19-6f78-4f79-9f4c-b9cc3d3fd52a",
   "metadata": {},
   "outputs": [
    {
     "name": "stdout",
     "output_type": "stream",
     "text": [
      "Department names standardized successfully.\n"
     ]
    }
   ],
   "source": [
    "# correct department names\n",
    "df['Department'] = df['Department'].str.strip().str.capitalize()\n",
    "\n",
    "from thefuzz import process \n",
    "\n",
    "# Define the correct department names\n",
    "valid_departments = [\"HR\", \"Engineering\", \"Marketing\", \"Sales\", \"Support\"]\n",
    "\n",
    "# Function to correct department names using fuzzy matching\n",
    "def correct_department(dept):\n",
    "    if pd.isna(dept) or dept.strip() == \"\":\n",
    "        return \"Unknown\"  # Assign a default value for missing departments\n",
    "    match, score = process.extractOne(dept, valid_departments)\n",
    "    return match if score > 80 else \"Unknown\"  # Assign \"Unknown\" if confidence is low\n",
    "\n",
    "# Apply correction to the Department column\n",
    "df['Department'] = df['Department'].apply(correct_department)\n",
    "\n",
    "print(\"Department names standardized successfully.\")"
   ]
  },
  {
   "cell_type": "code",
   "execution_count": 22,
   "id": "27191947-c820-41ee-9442-0ba8fe64c2fc",
   "metadata": {},
   "outputs": [
    {
     "data": {
      "text/html": [
       "<div>\n",
       "<style scoped>\n",
       "    .dataframe tbody tr th:only-of-type {\n",
       "        vertical-align: middle;\n",
       "    }\n",
       "\n",
       "    .dataframe tbody tr th {\n",
       "        vertical-align: top;\n",
       "    }\n",
       "\n",
       "    .dataframe thead th {\n",
       "        text-align: right;\n",
       "    }\n",
       "</style>\n",
       "<table border=\"1\" class=\"dataframe\">\n",
       "  <thead>\n",
       "    <tr style=\"text-align: right;\">\n",
       "      <th></th>\n",
       "      <th>ID</th>\n",
       "      <th>Name</th>\n",
       "      <th>Age</th>\n",
       "      <th>Email</th>\n",
       "      <th>Join Date</th>\n",
       "      <th>Salary</th>\n",
       "      <th>Department</th>\n",
       "    </tr>\n",
       "  </thead>\n",
       "  <tbody>\n",
       "    <tr>\n",
       "      <th>5</th>\n",
       "      <td>f92ea13f-24d3-4792-91e4-5b0e07d90c2c</td>\n",
       "      <td>Lisa Bailey</td>\n",
       "      <td>81.0</td>\n",
       "      <td>milleryvonne@fowler-york.com</td>\n",
       "      <td>2025-01-01</td>\n",
       "      <td>123018.000000</td>\n",
       "      <td>Support</td>\n",
       "    </tr>\n",
       "    <tr>\n",
       "      <th>9</th>\n",
       "      <td>d06f507d-62e5-4bd6-a252-4e60e109d324</td>\n",
       "      <td>Jay Fisher</td>\n",
       "      <td>44.0</td>\n",
       "      <td>denisemaynard@jordan.com</td>\n",
       "      <td>2022-12-08</td>\n",
       "      <td>37701.725993</td>\n",
       "      <td>HR</td>\n",
       "    </tr>\n",
       "    <tr>\n",
       "      <th>10</th>\n",
       "      <td>d5fe9321-49cf-4f14-ac96-7aea1204247b</td>\n",
       "      <td>Craig Conway</td>\n",
       "      <td>88.0</td>\n",
       "      <td>gerald47@woodard-smith.com</td>\n",
       "      <td>2025-01-01</td>\n",
       "      <td>81214.525972</td>\n",
       "      <td>Engineering</td>\n",
       "    </tr>\n",
       "    <tr>\n",
       "      <th>14</th>\n",
       "      <td>9b83a5e5-9516-493f-86f8-d6c445edb501</td>\n",
       "      <td>Nicole Cardenas</td>\n",
       "      <td>60.0</td>\n",
       "      <td>griffinlinda@harrison.com</td>\n",
       "      <td>2025-01-01</td>\n",
       "      <td>51625.814403</td>\n",
       "      <td>Marketing</td>\n",
       "    </tr>\n",
       "    <tr>\n",
       "      <th>15</th>\n",
       "      <td>0074dbd5-10d0-463f-9b10-d8473bea04ba</td>\n",
       "      <td>No name provided</td>\n",
       "      <td>22.0</td>\n",
       "      <td>ericjohnson@castillo-mendez.net</td>\n",
       "      <td>2023-03-01</td>\n",
       "      <td>89241.000000</td>\n",
       "      <td>HR</td>\n",
       "    </tr>\n",
       "  </tbody>\n",
       "</table>\n",
       "</div>"
      ],
      "text/plain": [
       "                                      ID              Name   Age  \\\n",
       "5   f92ea13f-24d3-4792-91e4-5b0e07d90c2c       Lisa Bailey  81.0   \n",
       "9   d06f507d-62e5-4bd6-a252-4e60e109d324        Jay Fisher  44.0   \n",
       "10  d5fe9321-49cf-4f14-ac96-7aea1204247b      Craig Conway  88.0   \n",
       "14  9b83a5e5-9516-493f-86f8-d6c445edb501   Nicole Cardenas  60.0   \n",
       "15  0074dbd5-10d0-463f-9b10-d8473bea04ba  No name provided  22.0   \n",
       "\n",
       "                              Email   Join Date         Salary   Department  \n",
       "5      milleryvonne@fowler-york.com  2025-01-01  123018.000000      Support  \n",
       "9          denisemaynard@jordan.com  2022-12-08   37701.725993           HR  \n",
       "10       gerald47@woodard-smith.com  2025-01-01   81214.525972  Engineering  \n",
       "14        griffinlinda@harrison.com  2025-01-01   51625.814403    Marketing  \n",
       "15  ericjohnson@castillo-mendez.net  2023-03-01   89241.000000           HR  "
      ]
     },
     "execution_count": 22,
     "metadata": {},
     "output_type": "execute_result"
    }
   ],
   "source": [
    "df.head()"
   ]
  },
  {
   "cell_type": "code",
   "execution_count": 23,
   "id": "5e6e93c4-7d26-4ca7-9e8e-37de0dc07af5",
   "metadata": {},
   "outputs": [],
   "source": [
    "df.reset_index(drop=True, inplace=True)"
   ]
  },
  {
   "cell_type": "code",
   "execution_count": 24,
   "id": "6a1f4cfa-c62b-4fd4-b258-1cdbbd9c8e25",
   "metadata": {},
   "outputs": [
    {
     "data": {
      "text/html": [
       "<div>\n",
       "<style scoped>\n",
       "    .dataframe tbody tr th:only-of-type {\n",
       "        vertical-align: middle;\n",
       "    }\n",
       "\n",
       "    .dataframe tbody tr th {\n",
       "        vertical-align: top;\n",
       "    }\n",
       "\n",
       "    .dataframe thead th {\n",
       "        text-align: right;\n",
       "    }\n",
       "</style>\n",
       "<table border=\"1\" class=\"dataframe\">\n",
       "  <thead>\n",
       "    <tr style=\"text-align: right;\">\n",
       "      <th></th>\n",
       "      <th>ID</th>\n",
       "      <th>Name</th>\n",
       "      <th>Age</th>\n",
       "      <th>Email</th>\n",
       "      <th>Join Date</th>\n",
       "      <th>Salary</th>\n",
       "      <th>Department</th>\n",
       "    </tr>\n",
       "  </thead>\n",
       "  <tbody>\n",
       "    <tr>\n",
       "      <th>0</th>\n",
       "      <td>f92ea13f-24d3-4792-91e4-5b0e07d90c2c</td>\n",
       "      <td>Lisa Bailey</td>\n",
       "      <td>81.0</td>\n",
       "      <td>milleryvonne@fowler-york.com</td>\n",
       "      <td>2025-01-01</td>\n",
       "      <td>123018.000000</td>\n",
       "      <td>Support</td>\n",
       "    </tr>\n",
       "    <tr>\n",
       "      <th>1</th>\n",
       "      <td>d06f507d-62e5-4bd6-a252-4e60e109d324</td>\n",
       "      <td>Jay Fisher</td>\n",
       "      <td>44.0</td>\n",
       "      <td>denisemaynard@jordan.com</td>\n",
       "      <td>2022-12-08</td>\n",
       "      <td>37701.725993</td>\n",
       "      <td>HR</td>\n",
       "    </tr>\n",
       "    <tr>\n",
       "      <th>2</th>\n",
       "      <td>d5fe9321-49cf-4f14-ac96-7aea1204247b</td>\n",
       "      <td>Craig Conway</td>\n",
       "      <td>88.0</td>\n",
       "      <td>gerald47@woodard-smith.com</td>\n",
       "      <td>2025-01-01</td>\n",
       "      <td>81214.525972</td>\n",
       "      <td>Engineering</td>\n",
       "    </tr>\n",
       "    <tr>\n",
       "      <th>3</th>\n",
       "      <td>9b83a5e5-9516-493f-86f8-d6c445edb501</td>\n",
       "      <td>Nicole Cardenas</td>\n",
       "      <td>60.0</td>\n",
       "      <td>griffinlinda@harrison.com</td>\n",
       "      <td>2025-01-01</td>\n",
       "      <td>51625.814403</td>\n",
       "      <td>Marketing</td>\n",
       "    </tr>\n",
       "    <tr>\n",
       "      <th>4</th>\n",
       "      <td>0074dbd5-10d0-463f-9b10-d8473bea04ba</td>\n",
       "      <td>No name provided</td>\n",
       "      <td>22.0</td>\n",
       "      <td>ericjohnson@castillo-mendez.net</td>\n",
       "      <td>2023-03-01</td>\n",
       "      <td>89241.000000</td>\n",
       "      <td>HR</td>\n",
       "    </tr>\n",
       "  </tbody>\n",
       "</table>\n",
       "</div>"
      ],
      "text/plain": [
       "                                     ID              Name   Age  \\\n",
       "0  f92ea13f-24d3-4792-91e4-5b0e07d90c2c       Lisa Bailey  81.0   \n",
       "1  d06f507d-62e5-4bd6-a252-4e60e109d324        Jay Fisher  44.0   \n",
       "2  d5fe9321-49cf-4f14-ac96-7aea1204247b      Craig Conway  88.0   \n",
       "3  9b83a5e5-9516-493f-86f8-d6c445edb501   Nicole Cardenas  60.0   \n",
       "4  0074dbd5-10d0-463f-9b10-d8473bea04ba  No name provided  22.0   \n",
       "\n",
       "                             Email   Join Date         Salary   Department  \n",
       "0     milleryvonne@fowler-york.com  2025-01-01  123018.000000      Support  \n",
       "1         denisemaynard@jordan.com  2022-12-08   37701.725993           HR  \n",
       "2       gerald47@woodard-smith.com  2025-01-01   81214.525972  Engineering  \n",
       "3        griffinlinda@harrison.com  2025-01-01   51625.814403    Marketing  \n",
       "4  ericjohnson@castillo-mendez.net  2023-03-01   89241.000000           HR  "
      ]
     },
     "execution_count": 24,
     "metadata": {},
     "output_type": "execute_result"
    }
   ],
   "source": [
    "df.head()"
   ]
  },
  {
   "cell_type": "code",
   "execution_count": 25,
   "id": "aa59c43c-a1fe-4971-a28d-75824d84b5bc",
   "metadata": {},
   "outputs": [
    {
     "data": {
      "text/plain": [
       "(3587, 7)"
      ]
     },
     "execution_count": 25,
     "metadata": {},
     "output_type": "execute_result"
    }
   ],
   "source": [
    "df.shape"
   ]
  },
  {
   "cell_type": "code",
   "execution_count": 26,
   "id": "0aaa2800-261e-4111-b370-df4bde200629",
   "metadata": {},
   "outputs": [],
   "source": [
    "# Save the cleaned dataset\n",
    "df.to_csv('cleaned_data.csv', index=False)"
   ]
  },
  {
   "cell_type": "code",
   "execution_count": 27,
   "id": "dcbf0342-adba-448f-8999-f26492999f4a",
   "metadata": {},
   "outputs": [],
   "source": [
    "df.to_excel(\"cleaned_data.xlsx\", index=False)"
   ]
  },
  {
   "cell_type": "code",
   "execution_count": null,
   "id": "67596f2b-15bf-4f04-be89-561b2dffe7be",
   "metadata": {},
   "outputs": [],
   "source": []
  }
 ],
 "metadata": {
  "kernelspec": {
   "display_name": "Python 3 (ipykernel)",
   "language": "python",
   "name": "python3"
  },
  "language_info": {
   "codemirror_mode": {
    "name": "ipython",
    "version": 3
   },
   "file_extension": ".py",
   "mimetype": "text/x-python",
   "name": "python",
   "nbconvert_exporter": "python",
   "pygments_lexer": "ipython3",
   "version": "3.11.4"
  }
 },
 "nbformat": 4,
 "nbformat_minor": 5
}
